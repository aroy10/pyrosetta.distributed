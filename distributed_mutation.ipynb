{
 "cells": [
  {
   "cell_type": "markdown",
   "metadata": {},
   "source": [
    "# Primary Imports\n",
    "\n",
    "environment requirements:\n",
    "````\n",
    "channels:\n",
    "  - conda-forge\n",
    "dependencies:\n",
    "  - python=3.5\n",
    "  - ipykernel\n",
    "  - ipython\n",
    "  - pandas\n",
    "  - numpy\n",
    "  - scipy\n",
    "  - biopython\n",
    "  - seaborn\n",
    "  - pip:\n",
    "    - https://storage.googleapis.com/protein-design-ipd-public/wheelhouse/pyrosetta-2017.48.post0.dev0+85.fordas.dev.82aaf52af9d-cp35-cp35m-linux_x86_64.whl\n",
    "````"
   ]
  },
  {
   "cell_type": "code",
   "execution_count": 1,
   "metadata": {},
   "outputs": [],
   "source": [
    "import logging\n",
    "logging.basicConfig(level=logging.INFO)"
   ]
  },
  {
   "cell_type": "code",
   "execution_count": 2,
   "metadata": {},
   "outputs": [],
   "source": [
    "import pyrosetta.distributed.io as io\n",
    "import pyrosetta.distributed.packed_pose as packed_pose\n",
    "import pyrosetta.distributed.tasks.rosetta_scripts as rosetta_scripts\n",
    "import pyrosetta.distributed.tasks.score as score"
   ]
  },
  {
   "cell_type": "code",
   "execution_count": 3,
   "metadata": {},
   "outputs": [],
   "source": [
    "import pandas"
   ]
  },
  {
   "cell_type": "code",
   "execution_count": 4,
   "metadata": {},
   "outputs": [],
   "source": [
    "import seaborn\n",
    "import matplotlib\n",
    "matplotlib.rcParams['figure.figsize'] = [8.0, 6.0]"
   ]
  },
  {
   "cell_type": "code",
   "execution_count": 5,
   "metadata": {},
   "outputs": [],
   "source": [
    "import Bio.SeqUtils\n",
    "import Bio.Data.IUPACData as IUPACData"
   ]
  },
  {
   "cell_type": "markdown",
   "metadata": {},
   "source": [
    "# Load test structure from pdb, import and pre-pack."
   ]
  },
  {
   "cell_type": "code",
   "execution_count": 6,
   "metadata": {},
   "outputs": [],
   "source": [
    "test_structure = !curl https://files.rcsb.org/download/1UBQ.pdb\n",
    "test_structure = \"\\n\".join(test_structure)"
   ]
  },
  {
   "cell_type": "code",
   "execution_count": 7,
   "metadata": {},
   "outputs": [],
   "source": [
    "input_protocol = \"\"\"\n",
    "<ROSETTASCRIPTS>\n",
    "  <TASKOPERATIONS>\n",
    "    <RestrictToRepacking name=\"only_pack\"/>\n",
    "  </TASKOPERATIONS>\n",
    "\n",
    "  <MOVERS>\n",
    "    <PackRotamersMover name=\"pack\" task_operations=\"only_pack\" />\n",
    "  </MOVERS>\n",
    "  \n",
    "  <PROTOCOLS>\n",
    "    <Add mover=\"pack\"/>\n",
    "  </PROTOCOLS>\n",
    "</ROSETTASCRIPTS>\n",
    "\"\"\""
   ]
  },
  {
   "cell_type": "code",
   "execution_count": 8,
   "metadata": {
    "scrolled": true
   },
   "outputs": [
    {
     "name": "stderr",
     "output_type": "stream",
     "text": [
      "INFO:pyrosetta.distributed:maybe_init performing pyrosetta initialization\n",
      "INFO:rosetta:Found rosetta database at: /home/weitzner/.conda/envs/pyrosetta.distributed/lib/python3.5/site-packages/pyrosetta/database; using it....\n",
      "INFO:rosetta:PyRosetta-4 2017 [Rosetta devel 2017.48.post.dev+85.fordas.dev.82aaf52af9d82aaf52af9daebae6e1e0264fb2d1a8856d5fd87 2017-12-11T23:03:20] retrieved from: https://github.com/RosettaCommons/main\n",
      "(C) Copyright Rosetta Commons Member Institutions.\n",
      "Created in JHU by Sergey Lyskov and PyRosetta Team.\n",
      "\n",
      "INFO:rosetta:\n",
      "INFO:rosetta:core.init: Rosetta version: 2017.48.post.dev+85.fordas.dev.82aaf52af9d 82aaf52af9daebae6e1e0264fb2d1a8856d5fd87 https://github.com/RosettaCommons/main 2017-12-11T23:03:20\n",
      "INFO:rosetta:core.init: command: PyRosetta -ex1 -ex2aro -database /home/weitzner/.conda/envs/pyrosetta.distributed/lib/python3.5/site-packages/pyrosetta/database\n",
      "INFO:rosetta:core.init: 'RNG device' seed mode, using '/dev/urandom', seed=380052879 seed_offset=0 real_seed=380052879\n",
      "INFO:rosetta:core.init.random: RandomGenerator:init: Normal mode, seed=380052879 RG_type=mt19937\n",
      "INFO:rosetta:\n",
      "INFO:rosetta:protocols.rosetta_scripts.RosettaScriptsParser: Generating XML Schema for rosetta_scripts...\n",
      "INFO:rosetta:protocols.rosetta_scripts.RosettaScriptsParser: ...done\n",
      "INFO:rosetta:protocols.rosetta_scripts.RosettaScriptsParser: Initializing schema validator...\n",
      "INFO:rosetta:protocols.rosetta_scripts.RosettaScriptsParser: ...done\n",
      "INFO:rosetta:protocols.rosetta_scripts.RosettaScriptsParser: Validating input script...\n",
      "INFO:rosetta:protocols.rosetta_scripts.RosettaScriptsParser: ...done\n",
      "INFO:rosetta:protocols.rosetta_scripts.RosettaScriptsParser: Parsed script:\n",
      "<ROSETTASCRIPTS>\n",
      "\t<TASKOPERATIONS>\n",
      "\t\t<RestrictToRepacking name=\"only_pack\"/>\n",
      "\t</TASKOPERATIONS>\n",
      "\t<MOVERS>\n",
      "\t\t<PackRotamersMover name=\"pack\" task_operations=\"only_pack\"/>\n",
      "\t</MOVERS>\n",
      "\t<PROTOCOLS>\n",
      "\t\t<Add mover=\"pack\"/>\n",
      "\t</PROTOCOLS>\n",
      "</ROSETTASCRIPTS>\n",
      "INFO:rosetta:core.scoring.ScoreFunctionFactory: SCOREFUNCTION: ref2015\n",
      "INFO:rosetta:core.scoring.etable: Starting energy table calculation\n",
      "INFO:rosetta:core.scoring.etable: smooth_etable: changing atr/rep split to bottom of energy well\n",
      "INFO:rosetta:core.scoring.etable: smooth_etable: spline smoothing lj etables (maxdis = 6)\n",
      "INFO:rosetta:core.scoring.etable: smooth_etable: spline smoothing solvation etables (max_dis = 6)\n",
      "INFO:rosetta:core.scoring.etable: Finished calculating energy tables.\n",
      "INFO:rosetta:basic.io.database: Database file opened: scoring/score_functions/hbonds/ref2015_params/HBPoly1D.csv\n",
      "INFO:rosetta:basic.io.database: Database file opened: scoring/score_functions/hbonds/ref2015_params/HBFadeIntervals.csv\n",
      "INFO:rosetta:basic.io.database: Database file opened: scoring/score_functions/hbonds/ref2015_params/HBEval.csv\n",
      "INFO:rosetta:basic.io.database: Database file opened: scoring/score_functions/hbonds/ref2015_params/DonStrength.csv\n",
      "INFO:rosetta:basic.io.database: Database file opened: scoring/score_functions/hbonds/ref2015_params/AccStrength.csv\n",
      "INFO:rosetta:core.chemical.GlobalResidueTypeSet: Finished initializing fa_standard residue type set.  Created 571 residue types\n",
      "INFO:rosetta:core.chemical.GlobalResidueTypeSet: Total time to initialize 1.31934 seconds.\n",
      "INFO:rosetta:basic.io.database: Database file opened: scoring/score_functions/rama/fd/all.ramaProb\n",
      "INFO:rosetta:basic.io.database: Database file opened: scoring/score_functions/rama/fd/prepro.ramaProb\n",
      "INFO:rosetta:basic.io.database: Database file opened: scoring/score_functions/omega/omega_ppdep.all.txt\n",
      "INFO:rosetta:basic.io.database: Database file opened: scoring/score_functions/omega/omega_ppdep.gly.txt\n",
      "INFO:rosetta:basic.io.database: Database file opened: scoring/score_functions/omega/omega_ppdep.pro.txt\n",
      "INFO:rosetta:basic.io.database: Database file opened: scoring/score_functions/omega/omega_ppdep.valile.txt\n",
      "INFO:rosetta:basic.io.database: Database file opened: scoring/score_functions/P_AA_pp/P_AA\n",
      "INFO:rosetta:basic.io.database: Database file opened: scoring/score_functions/P_AA_pp/P_AA_n\n",
      "INFO:rosetta:core.scoring.P_AA: shapovalov_lib::shap_p_aa_pp_smooth_level of 1( aka low_smooth ) got activated.\n",
      "INFO:rosetta:basic.io.database: Database file opened: scoring/score_functions/P_AA_pp/shapovalov/10deg/kappa131/a20.prop\n",
      "INFO:rosetta:core.scoring.etable: Starting energy table calculation\n",
      "INFO:rosetta:core.scoring.etable: smooth_etable: changing atr/rep split to bottom of energy well\n",
      "INFO:rosetta:core.scoring.etable: smooth_etable: spline smoothing lj etables (maxdis = 6)\n",
      "INFO:rosetta:core.scoring.etable: smooth_etable: spline smoothing solvation etables (max_dis = 6)\n",
      "INFO:rosetta:core.scoring.etable: Finished calculating energy tables.\n",
      "INFO:rosetta:basic.io.database: Database file opened: scoring/score_functions/PairEPotential/pdb_pair_stats_fine\n",
      "INFO:rosetta:basic.io.database: Database file opened: scoring/score_functions/InterchainPotential/interchain_env_log.txt\n",
      "INFO:rosetta:basic.io.database: Database file opened: scoring/score_functions/InterchainPotential/interchain_pair_log.txt\n",
      "INFO:rosetta:basic.io.database: Database file opened: scoring/score_functions/EnvPairPotential/env_log.txt\n",
      "INFO:rosetta:basic.io.database: Database file opened: scoring/score_functions/EnvPairPotential/cbeta_den.txt\n",
      "INFO:rosetta:basic.io.database: Database file opened: scoring/score_functions/EnvPairPotential/pair_log.txt\n",
      "INFO:rosetta:basic.io.database: Database file opened: scoring/score_functions/EnvPairPotential/cenpack_log.txt\n",
      "INFO:rosetta:core.scoring.ramachandran: shapovalov_lib::shap_rama_smooth_level of 4( aka highest_smooth ) got activated.\n",
      "INFO:rosetta:basic.io.database: Database file opened: scoring/score_functions/rama/shapovalov/kappa25/all.ramaProb\n",
      "INFO:rosetta:protocols.jd2.parser.TaskOperationLoader: Defined TaskOperation named \"only_pack\" of type RestrictToRepacking\n",
      "INFO:rosetta:\n",
      "INFO:rosetta:\n",
      "INFO:rosetta:\n",
      "INFO:rosetta:\n",
      "INFO:rosetta:\n",
      "INFO:rosetta:\n",
      "INFO:rosetta:protocols.RosettaScripts.util: Object pack reading the following task_operations: Adding the following task operations\n",
      "only_pack\n",
      "INFO:rosetta:protocols.rosetta_scripts.RosettaScriptsParser: Defined mover named \"pack\" of type PackRotamersMover\n",
      "INFO:rosetta:\n",
      "INFO:rosetta:\n",
      "INFO:rosetta:\n",
      "INFO:rosetta:\n",
      "INFO:rosetta:protocols.rosetta_scripts.ParsedProtocol: ParsedProtocol mover with the following movers and filters\n",
      "INFO:rosetta:protocols.rosetta_scripts.ParsedProtocol: added mover \"pack\" with filter \"true_filter\"\n",
      "INFO:rosetta:\n",
      "INFO:rosetta:\n"
     ]
    }
   ],
   "source": [
    "input_relax = rosetta_scripts.SingleoutputRosettaScriptsTask(input_protocol)\n",
    "# Syntax check via setup\n",
    "input_relax.setup()"
   ]
  },
  {
   "cell_type": "code",
   "execution_count": 9,
   "metadata": {},
   "outputs": [
    {
     "name": "stderr",
     "output_type": "stream",
     "text": [
      "INFO:rosetta:core.scoring.ScoreFunctionFactory: SCOREFUNCTION: ref2015\n",
      "INFO:rosetta:basic.io.database: Database file opened: scoring/score_functions/elec_cp_reps.dat\n",
      "INFO:rosetta:core.scoring.elec.util: Read 40 countpair representative atoms\n",
      "INFO:rosetta:core.pack.dunbrack.RotamerLibrary: shapovalov_lib_fixes_enable option is true.\n",
      "INFO:rosetta:core.pack.dunbrack.RotamerLibrary: shapovalov_lib::shap_dun10_smooth_level of 1( aka lowest_smooth ) got activated.\n",
      "INFO:rosetta:core.pack.dunbrack.RotamerLibrary: Binary rotamer library selected: /home/weitzner/.conda/envs/pyrosetta.distributed/lib/python3.5/site-packages/pyrosetta/database/rotamer/shapovalov/StpDwn_0-0-0/Dunbrack10.lib.bin\n",
      "INFO:rosetta:core.pack.dunbrack.RotamerLibrary: Using Dunbrack library binary file '/home/weitzner/.conda/envs/pyrosetta.distributed/lib/python3.5/site-packages/pyrosetta/database/rotamer/shapovalov/StpDwn_0-0-0/Dunbrack10.lib.bin'.\n",
      "INFO:rosetta:core.pack.dunbrack.RotamerLibrary: Dunbrack 2010 library took 0.2814 seconds to load from binary\n"
     ]
    }
   ],
   "source": [
    "raw_input_pose = score.ScorePoseTask()(io.pose_from_pdbstring(test_structure))"
   ]
  },
  {
   "cell_type": "code",
   "execution_count": 10,
   "metadata": {
    "scrolled": true
   },
   "outputs": [
    {
     "name": "stderr",
     "output_type": "stream",
     "text": [
      "INFO:rosetta:\n",
      "INFO:rosetta:protocols.rosetta_scripts.RosettaScriptsParser: Validating input script...\n",
      "INFO:rosetta:protocols.rosetta_scripts.RosettaScriptsParser: ...done\n",
      "INFO:rosetta:protocols.rosetta_scripts.RosettaScriptsParser: Parsed script:\n",
      "<ROSETTASCRIPTS>\n",
      "\t<TASKOPERATIONS>\n",
      "\t\t<RestrictToRepacking name=\"only_pack\"/>\n",
      "\t</TASKOPERATIONS>\n",
      "\t<MOVERS>\n",
      "\t\t<PackRotamersMover name=\"pack\" task_operations=\"only_pack\"/>\n",
      "\t</MOVERS>\n",
      "\t<PROTOCOLS>\n",
      "\t\t<Add mover=\"pack\"/>\n",
      "\t</PROTOCOLS>\n",
      "</ROSETTASCRIPTS>\n",
      "INFO:rosetta:core.scoring.ScoreFunctionFactory: SCOREFUNCTION: ref2015\n",
      "INFO:rosetta:protocols.jd2.parser.TaskOperationLoader: Defined TaskOperation named \"only_pack\" of type RestrictToRepacking\n",
      "INFO:rosetta:\n",
      "INFO:rosetta:\n",
      "INFO:rosetta:\n",
      "INFO:rosetta:\n",
      "INFO:rosetta:\n",
      "INFO:rosetta:\n",
      "INFO:rosetta:protocols.RosettaScripts.util: Object pack reading the following task_operations: Adding the following task operations\n",
      "only_pack\n",
      "INFO:rosetta:protocols.rosetta_scripts.RosettaScriptsParser: Defined mover named \"pack\" of type PackRotamersMover\n",
      "INFO:rosetta:\n",
      "INFO:rosetta:\n",
      "INFO:rosetta:\n",
      "INFO:rosetta:\n",
      "INFO:rosetta:protocols.rosetta_scripts.ParsedProtocol: ParsedProtocol mover with the following movers and filters\n",
      "INFO:rosetta:protocols.rosetta_scripts.ParsedProtocol: added mover \"pack\" with filter \"true_filter\"\n",
      "INFO:rosetta:\n",
      "INFO:rosetta:\n",
      "INFO:rosetta:core.scoring.ScoreFunctionFactory: SCOREFUNCTION: ref2015\n",
      "INFO:rosetta:protocols.jd2.parser.TaskOperationLoader: Defined TaskOperation named \"only_pack\" of type RestrictToRepacking\n",
      "INFO:rosetta:\n",
      "INFO:rosetta:\n",
      "INFO:rosetta:\n",
      "INFO:rosetta:\n",
      "INFO:rosetta:\n",
      "INFO:rosetta:\n",
      "INFO:rosetta:protocols.RosettaScripts.util: Object pack reading the following task_operations: Adding the following task operations\n",
      "only_pack\n",
      "INFO:rosetta:protocols.rosetta_scripts.RosettaScriptsParser: Defined mover named \"pack\" of type PackRotamersMover\n",
      "INFO:rosetta:\n",
      "INFO:rosetta:\n",
      "INFO:rosetta:\n",
      "INFO:rosetta:\n",
      "INFO:rosetta:protocols.rosetta_scripts.ParsedProtocol: ParsedProtocol mover with the following movers and filters\n",
      "INFO:rosetta:protocols.rosetta_scripts.ParsedProtocol: added mover \"pack\" with filter \"true_filter\"\n",
      "INFO:rosetta:\n",
      "INFO:rosetta:\n",
      "INFO:rosetta:protocols.evaluation.ChiWellRmsdEvaluatorCreator: Evaluation Creator active ...\n",
      "INFO:rosetta:protocols.rosetta_scripts.ParsedProtocol: =======================BEGIN MOVER PackRotamersMover - pack=======================\n",
      "INFO:rosetta:\n",
      "INFO:rosetta:\n",
      "INFO:rosetta:\n",
      "INFO:rosetta:\n",
      "INFO:rosetta:\n",
      "INFO:rosetta:\n",
      "INFO:rosetta:\n",
      "INFO:rosetta:\n",
      "INFO:rosetta:\n",
      "INFO:rosetta:\n",
      "INFO:rosetta:\n",
      "INFO:rosetta:\n",
      "INFO:rosetta:\n",
      "INFO:rosetta:\n",
      "INFO:rosetta:\n",
      "INFO:rosetta:\n",
      "INFO:rosetta:\n",
      "INFO:rosetta:\n",
      "INFO:rosetta:\n",
      "INFO:rosetta:\n",
      "INFO:rosetta:\n",
      "INFO:rosetta:\n",
      "INFO:rosetta:\n",
      "INFO:rosetta:\n",
      "INFO:rosetta:\n",
      "INFO:rosetta:\n",
      "INFO:rosetta:\n",
      "INFO:rosetta:\n",
      "INFO:rosetta:\n",
      "INFO:rosetta:\n",
      "INFO:rosetta:\n",
      "INFO:rosetta:\n",
      "INFO:rosetta:\n",
      "INFO:rosetta:\n",
      "INFO:rosetta:\n",
      "INFO:rosetta:\n",
      "INFO:rosetta:\n",
      "INFO:rosetta:\n",
      "INFO:rosetta:\n",
      "INFO:rosetta:\n",
      "INFO:rosetta:\n",
      "INFO:rosetta:\n",
      "INFO:rosetta:\n",
      "INFO:rosetta:\n",
      "INFO:rosetta:\n",
      "INFO:rosetta:\n",
      "INFO:rosetta:\n",
      "INFO:rosetta:\n",
      "INFO:rosetta:\n",
      "INFO:rosetta:\n",
      "INFO:rosetta:\n",
      "INFO:rosetta:\n",
      "INFO:rosetta:\n",
      "INFO:rosetta:\n",
      "INFO:rosetta:\n",
      "INFO:rosetta:\n",
      "INFO:rosetta:\n",
      "INFO:rosetta:\n",
      "INFO:rosetta:\n",
      "INFO:rosetta:\n",
      "INFO:rosetta:\n",
      "INFO:rosetta:\n",
      "INFO:rosetta:\n",
      "INFO:rosetta:\n",
      "INFO:rosetta:\n",
      "INFO:rosetta:\n",
      "INFO:rosetta:\n",
      "INFO:rosetta:\n",
      "INFO:rosetta:\n",
      "INFO:rosetta:\n",
      "INFO:rosetta:\n",
      "INFO:rosetta:\n",
      "INFO:rosetta:\n",
      "INFO:rosetta:\n",
      "INFO:rosetta:\n",
      "INFO:rosetta:\n",
      "INFO:rosetta:core.pack.pack_rotamers: built 941 rotamers at 76 positions.\n",
      "INFO:rosetta:core.pack.interaction_graph.interaction_graph_factory: Instantiating DensePDInteractionGraph\n",
      "INFO:rosetta:core.pack.interaction_graph.interaction_graph_factory: IG: 707244 bytes\n",
      "INFO:rosetta:protocols.rosetta_scripts.ParsedProtocol: setting status to success\n",
      "INFO:rosetta:\n"
     ]
    }
   ],
   "source": [
    "input_pose = input_relax(raw_input_pose)"
   ]
  },
  {
   "cell_type": "markdown",
   "metadata": {},
   "source": [
    "# Perform exhaustive point mutation and pack"
   ]
  },
  {
   "cell_type": "code",
   "execution_count": 11,
   "metadata": {},
   "outputs": [],
   "source": [
    "def mutate_residue(input_pose, res_index, new_aa, res_label = None):\n",
    "    import pyrosetta.rosetta.core.pose as pose\n",
    "    \n",
    "    work_pose = packed_pose.to_pose(input_pose)\n",
    "    \n",
    "    # Annotate strucure with reslabel, for use in downstream protocol\n",
    "    # Add parameters as score, for use in downstream analysis\n",
    "    if res_label:\n",
    "        work_pose.pdb_info().add_reslabel(res_index, res_label)\n",
    "        pose.setPoseExtraScore(work_pose, \"mutation_index\", res_index)\n",
    "        pose.setPoseExtraScore(work_pose, \"mutation_aa\", new_aa)\n",
    "    \n",
    "    if len(new_aa) == 1:\n",
    "        new_aa = str.upper(Bio.SeqUtils.seq3(new_aa))\n",
    "    assert new_aa in map(str.upper, IUPACData.protein_letters_3to1)\n",
    "    \n",
    "    protocol = \"\"\"\n",
    "<ROSETTASCRIPTS>\n",
    "    <MOVERS>\n",
    "        <MutateResidue name=\"mutate\" new_res=\"%(new_aa)s\" target=\"%(res_index)i\" />\n",
    "    </MOVERS>\n",
    "    <PROTOCOLS>\n",
    "        <Add mover_name=\"mutate\"/>\n",
    "    </PROTOCOLS>\n",
    "</ROSETTASCRIPTS>\n",
    "    \"\"\" % locals()\n",
    "    \n",
    "    return rosetta_scripts.SingleoutputRosettaScriptsTask(protocol)(work_pose)"
   ]
  },
  {
   "cell_type": "code",
   "execution_count": 12,
   "metadata": {},
   "outputs": [],
   "source": [
    "def refine_mutation(input_pose):\n",
    "    refine = \"\"\"\n",
    "<ROSETTASCRIPTS>\n",
    "\n",
    "  <RESIDUE_SELECTORS>\n",
    "    <ResiduePDBInfoHasLabel name=\"mutation\" property=\"mutation\" />\n",
    "    <Not name=\"not_neighbor\">\n",
    "      <Neighborhood selector=\"mutation\" distance=\"12.0\" />\n",
    "    </Not>\n",
    "  </RESIDUE_SELECTORS>\n",
    "  \n",
    "  <TASKOPERATIONS>\n",
    "    <RestrictToRepacking name=\"only_pack\"/>\n",
    "    <OperateOnResidueSubset name=\"only_repack_neighbors\" selector=\"not_neighbor\" >\n",
    "      <PreventRepackingRLT/>\n",
    "    </OperateOnResidueSubset>\n",
    "  </TASKOPERATIONS>\n",
    "\n",
    "  <MOVERS>\n",
    "    <PackRotamersMover name=\"pack_area\" task_operations=\"only_pack,only_repack_neighbors\" />\n",
    "  </MOVERS>\n",
    "  \n",
    "  <PROTOCOLS>\n",
    "    <Add mover=\"pack_area\"/>\n",
    "  </PROTOCOLS>\n",
    "</ROSETTASCRIPTS>\n",
    "    \"\"\"\n",
    "    \n",
    "    return rosetta_scripts.SingleoutputRosettaScriptsTask(refine)(input_pose)"
   ]
  },
  {
   "cell_type": "markdown",
   "metadata": {},
   "source": [
    "# Execute mutation and pack on process pool"
   ]
  },
  {
   "cell_type": "code",
   "execution_count": 13,
   "metadata": {},
   "outputs": [],
   "source": [
    "import itertools\n",
    "import pyrosetta"
   ]
  },
  {
   "cell_type": "code",
   "execution_count": 14,
   "metadata": {},
   "outputs": [],
   "source": [
    "from multiprocessing import Pool"
   ]
  },
  {
   "cell_type": "code",
   "execution_count": 15,
   "metadata": {
    "scrolled": true
   },
   "outputs": [
    {
     "name": "stderr",
     "output_type": "stream",
     "text": [
      "INFO:root:mutating\n",
      "INFO:root:refining\n"
     ]
    }
   ],
   "source": [
    "with pyrosetta.utility.log.LoggingContext(logging.getLogger(\"rosetta\"), level=logging.WARN):\n",
    "    with Pool() as p:\n",
    "        work = [\n",
    "            (input_pose, i, aa, \"mutation\")\n",
    "            for i, aa in itertools.product(range(1, len(packed_pose.to_pose(input_pose).residues) + 1), IUPACData.protein_letters)\n",
    "        ]\n",
    "        logging.info(\"mutating\")\n",
    "        mutations = p.starmap(mutate_residue, work)\n",
    "        logging.info(\"refining\")\n",
    "        refinments = p.map(refine_mutation, mutations)"
   ]
  },
  {
   "cell_type": "markdown",
   "metadata": {},
   "source": [
    "# Analysis of delta score"
   ]
  },
  {
   "cell_type": "code",
   "execution_count": 16,
   "metadata": {
    "scrolled": false
   },
   "outputs": [],
   "source": [
    "result_frame = pandas.DataFrame.from_records(packed_pose.to_dict(refinments))\n",
    "result_frame[\"delta_total_score\"] = result_frame[\"total_score\"] - input_pose.scores[\"total_score\"] \n",
    "result_frame[\"mutation_index\"] = list(map(int, result_frame[\"mutation_index\"]))"
   ]
  },
  {
   "cell_type": "code",
   "execution_count": 17,
   "metadata": {},
   "outputs": [],
   "source": [
    "matplotlib.rcParams['figure.figsize'] = [24.0, 8.0]"
   ]
  },
  {
   "cell_type": "code",
   "execution_count": 19,
   "metadata": {},
   "outputs": [
    {
     "data": {
      "text/plain": [
       "<matplotlib.axes._subplots.AxesSubplot at 0x7fffdc28d748>"
      ]
     },
     "execution_count": 19,
     "metadata": {},
     "output_type": "execute_result"
    },
    {
     "data": {
      "image/png": "[encoded data removed]",
      "text/plain": [
       "<matplotlib.figure.Figure at 0x7fffdc296358>"
      ]
     },
     "metadata": {},
     "output_type": "display_data"
    }
   ],
   "source": [
    "seaborn.heatmap(\n",
    "    result_frame.pivot(\"mutation_aa\", \"mutation_index\", \"delta_total_score\"),\n",
    "    cmap=\"RdBu_r\", center=0, vmax=50)"
   ]
  },
  {
   "cell_type": "code",
   "execution_count": null,
   "metadata": {},
   "outputs": [],
   "source": []
  },
  {
   "cell_type": "code",
   "execution_count": null,
   "metadata": {},
   "outputs": [],
   "source": []
  },
  {
   "cell_type": "code",
   "execution_count": null,
   "metadata": {},
   "outputs": [],
   "source": []
  }
 ],
 "metadata": {
  "_draft": {
   "nbviewer_url": "https://gist.github.com/a3118b776957d03bc4c789493bb541fe"
  },
  "gist": {
   "data": {
    "description": "pyrosetta_distributed_mutation_demo.ipynb",
    "public": true
   },
   "id": "a3118b776957d03bc4c789493bb541fe"
  },
  "kernelspec": {
   "display_name": "Python [conda env:pyrosetta.distributed]",
   "language": "python",
   "name": "conda-env-pyrosetta.distributed-py"
  },
  "language_info": {
   "codemirror_mode": {
    "name": "ipython",
    "version": 3
   },
   "file_extension": ".py",
   "mimetype": "text/x-python",
   "name": "python",
   "nbconvert_exporter": "python",
   "pygments_lexer": "ipython3",
   "version": "3.5.4"
  },
  "toc": {
   "nav_menu": {},
   "number_sections": true,
   "sideBar": true,
   "skip_h1_title": false,
   "toc_cell": false,
   "toc_position": {},
   "toc_section_display": "block",
   "toc_window_display": false
  }
 },
 "nbformat": 4,
 "nbformat_minor": 2
}
